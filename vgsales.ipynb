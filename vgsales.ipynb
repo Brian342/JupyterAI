{
 "cells": [
  {
   "cell_type": "code",
   "execution_count": 2,
   "id": "7b2c40f6-caff-4bfd-a377-7e6178439e28",
   "metadata": {},
   "outputs": [
    {
     "data": {
      "text/html": [
       "        <script type=\"text/javascript\">\n",
       "        window.PlotlyConfig = {MathJaxConfig: 'local'};\n",
       "        if (window.MathJax && window.MathJax.Hub && window.MathJax.Hub.Config) {window.MathJax.Hub.Config({SVG: {font: \"STIX-Web\"}});}\n",
       "        if (typeof require !== 'undefined') {\n",
       "        require.undef(\"plotly\");\n",
       "        requirejs.config({\n",
       "            paths: {\n",
       "                'plotly': ['https://cdn.plot.ly/plotly-2.35.2.min']\n",
       "            }\n",
       "        });\n",
       "        require(['plotly'], function(Plotly) {\n",
       "            window._Plotly = Plotly;\n",
       "        });\n",
       "        }\n",
       "        </script>\n",
       "        "
      ]
     },
     "metadata": {},
     "output_type": "display_data"
    }
   ],
   "source": [
    "import csv\n",
    "import pandas as pd\n",
    "import matplotlib.pyplot as plt\n",
    "import seaborn as sns\n",
    "import plotly.express as px\n",
    "import plotly.graph_objects as go\n",
    "%matplotlib inline\n",
    "from jupyter_datatables import init_datatables_mode\n",
    "from plotly.offline import download_plotlyjs, plot, init_notebook_mode,iplot\n",
    "init_notebook_mode(connected=True)"
   ]
  },
  {
   "cell_type": "code",
   "execution_count": 8,
   "id": "8ede325e-6ef5-46af-be1e-513d906bf718",
   "metadata": {},
   "outputs": [],
   "source": [
    "df1.loc[df1['Year'].isin([0]), 'Year'] = 0"
   ]
  },
  {
   "cell_type": "code",
   "execution_count": 6,
   "id": "e3384a47-26b0-455e-9e20-6846b6f59623",
   "metadata": {},
   "outputs": [],
   "source": [
    "# with open('vgsales.csv') as f:\n",
    "#     file = csv.reader(f)\n",
    "#     for row in file:\n",
    "#         print(row)\n",
    "df = pd.read_csv('vgsales.csv', index_col='Rank' )"
   ]
  },
  {
   "cell_type": "code",
   "execution_count": null,
   "id": "1febf0c6-f264-47eb-8872-75cedf317ea9",
   "metadata": {},
   "outputs": [],
   "source": [
    "df1.head(500).to_csv('vgsalesTableau.csv')"
   ]
  },
  {
   "cell_type": "code",
   "execution_count": 9,
   "id": "6873976f-be74-4a7c-924b-08e22a435f43",
   "metadata": {},
   "outputs": [
    {
     "name": "stdout",
     "output_type": "stream",
     "text": [
      "rows=16598, columns=10\n"
     ]
    }
   ],
   "source": [
    "rows, columns = df.shape\n",
    "print(f'rows={rows}, columns={columns}')"
   ]
  },
  {
   "cell_type": "code",
   "execution_count": 10,
   "id": "22e34bc1-3482-4786-95a2-74e091c4eb0b",
   "metadata": {},
   "outputs": [],
   "source": [
    "pd.reset_option('display.max_row', None)"
   ]
  },
  {
   "cell_type": "code",
   "execution_count": 11,
   "id": "093af4d2-45d7-4440-8192-edc34e101957",
   "metadata": {},
   "outputs": [],
   "source": [
    "df1 = df.copy()"
   ]
  },
  {
   "cell_type": "code",
   "execution_count": null,
   "id": "e34f70d4-1cc3-45ba-9190-27ee7aca9df7",
   "metadata": {},
   "outputs": [],
   "source": [
    "df1['Year']"
   ]
  },
  {
   "cell_type": "code",
   "execution_count": 12,
   "id": "06f3dd68-8a56-4424-9ad5-ce59acd39bf2",
   "metadata": {},
   "outputs": [
    {
     "data": {
      "text/plain": [
       "Name             object\n",
       "Platform         object\n",
       "Year            float64\n",
       "Genre            object\n",
       "Publisher        object\n",
       "NA_Sales        float64\n",
       "EU_Sales        float64\n",
       "JP_Sales        float64\n",
       "Other_Sales     float64\n",
       "Global_Sales    float64\n",
       "dtype: object"
      ]
     },
     "execution_count": 12,
     "metadata": {},
     "output_type": "execute_result"
    }
   ],
   "source": [
    "# checking the datatypes of the columns\n",
    "df1.dtypes"
   ]
  },
  {
   "cell_type": "code",
   "execution_count": 13,
   "id": "32b27739-fc64-4964-b8c4-92acc9eb0c86",
   "metadata": {},
   "outputs": [
    {
     "data": {
      "text/plain": [
       "Name              0\n",
       "Platform          0\n",
       "Year            271\n",
       "Genre             0\n",
       "Publisher        58\n",
       "NA_Sales          0\n",
       "EU_Sales          0\n",
       "JP_Sales          0\n",
       "Other_Sales       0\n",
       "Global_Sales      0\n",
       "dtype: int64"
      ]
     },
     "execution_count": 13,
     "metadata": {},
     "output_type": "execute_result"
    }
   ],
   "source": [
    "# checking the sum of nullvalues on the data set\n",
    "df1.isnull().sum()"
   ]
  },
  {
   "cell_type": "code",
   "execution_count": 14,
   "id": "dcd661bd-a8a5-4434-a99f-8865a22ae9d9",
   "metadata": {},
   "outputs": [],
   "source": [
    "#function to clean and remove unwanted formats\n",
    "def cleaning():\n",
    "    \"\"\"Function for cleaning and removing special characters\n",
    "    \"\"\"\n",
    "    return df1['Name'].str.replace(r'a-zA-Z0-9', regex=True)"
   ]
  },
  {
   "cell_type": "code",
   "execution_count": 15,
   "id": "611bd05a-b565-4cb1-9483-b33c3cfdfb89",
   "metadata": {},
   "outputs": [],
   "source": [
    "# replacing nullvalues with 0\n",
    "df1['Year']=df['Year'].fillna(1980).astype(int)"
   ]
  },
  {
   "cell_type": "code",
   "execution_count": 16,
   "id": "2eff92af-ff1e-4415-9095-fb854a048ad1",
   "metadata": {},
   "outputs": [
    {
     "data": {
      "text/plain": [
       "array(['Nintendo', 'Microsoft Game Studios', 'Take-Two Interactive',\n",
       "       'Sony Computer Entertainment', 'Activision', 'Ubisoft',\n",
       "       'Bethesda Softworks', 'Electronic Arts', 'Sega', 'SquareSoft',\n",
       "       'Atari', '505 Games', 'Capcom', 'GT Interactive',\n",
       "       'Konami Digital Entertainment',\n",
       "       'Sony Computer Entertainment Europe', 'Square Enix', 'LucasArts',\n",
       "       'Virgin Interactive', 'Warner Bros. Interactive Entertainment',\n",
       "       'Universal Interactive', 'Eidos Interactive', 'RedOctane',\n",
       "       'Vivendi Games', 'Enix Corporation', 'Namco Bandai Games',\n",
       "       'Palcom', 'Hasbro Interactive', 'THQ', 'Fox Interactive',\n",
       "       'Acclaim Entertainment', 'MTV Games', 'Disney Interactive Studios',\n",
       "       nan, 'Majesco Entertainment', 'Codemasters', 'Red Orb', 'Level 5',\n",
       "       'Arena Entertainment', 'Midway Games', 'JVC', 'Deep Silver',\n",
       "       '989 Studios', 'NCSoft', 'UEP Systems', 'Parker Bros.', 'Maxis',\n",
       "       'Imagic', 'Tecmo Koei', 'Valve Software', 'ASCII Entertainment',\n",
       "       'Mindscape', 'Infogrames', 'Unknown', 'Square', 'Valve',\n",
       "       'Activision Value', 'Banpresto', 'D3Publisher',\n",
       "       'Oxygen Interactive', 'Red Storm Entertainment', 'Video System',\n",
       "       'Hello Games', 'Global Star', 'Gotham Games', 'Westwood Studios',\n",
       "       'GungHo', 'Crave Entertainment', 'Hudson Soft', 'Coleco',\n",
       "       'Rising Star Games', 'Atlus', 'TDK Mediactive', 'ASC Games',\n",
       "       'Zoo Games', 'Accolade', 'Sony Online Entertainment', '3DO', 'RTL',\n",
       "       'Natsume', 'Focus Home Interactive', 'Alchemist',\n",
       "       'Black Label Games', 'SouthPeak Games', 'Mastertronic', 'Ocean',\n",
       "       'Zoo Digital Publishing', 'Psygnosis', 'City Interactive',\n",
       "       'Empire Interactive', 'Success', 'Compile', 'Russel', 'Taito',\n",
       "       'Agetec', 'GSP', 'Microprose', 'Play It', 'Slightly Mad Studios',\n",
       "       'Tomy Corporation', 'Sammy Corporation', 'Koch Media',\n",
       "       'Game Factory', 'Titus', 'Marvelous Entertainment', 'Genki',\n",
       "       'Mojang', 'Pinnacle', 'CTO SpA', 'TalonSoft', 'Crystal Dynamics',\n",
       "       'SCi', 'Quelle', 'mixi, Inc', 'Rage Software', 'Ubisoft Annecy',\n",
       "       'Scholastic Inc.', 'Interplay', 'Mystique', 'ChunSoft',\n",
       "       'Square EA', '20th Century Fox Video Games', 'Avanquest Software',\n",
       "       'Hudson Entertainment', 'Nordic Games', 'Men-A-Vision', 'Nobilis',\n",
       "       'Big Ben Interactive', 'Touchstone', 'Spike', 'Jester Interactive',\n",
       "       'Nippon Ichi Software', 'LEGO Media', 'Quest',\n",
       "       'Illusion Softworks', 'Tigervision', 'Funbox Media',\n",
       "       'Rocket Company', 'Metro 3D', 'Mattel Interactive', 'IE Institute',\n",
       "       'Rondomedia', 'Sony Computer Entertainment America',\n",
       "       'Universal Gamex', 'Ghostlight', 'Wizard Video Games',\n",
       "       'BMG Interactive Entertainment', 'PQube', 'Trion Worlds', 'Laguna',\n",
       "       'Ignition Entertainment', 'Takara', 'Kadokawa Shoten', 'Destineer',\n",
       "       'Enterbrain', 'Xseed Games', 'Imagineer',\n",
       "       'System 3 Arcade Software', 'CPG Products', 'Aruze Corp',\n",
       "       'Gamebridge', 'Midas Interactive Entertainment', 'Jaleco',\n",
       "       'Answer Software', 'XS Games', 'Activision Blizzard',\n",
       "       'Pack In Soft', 'Rebellion', 'Xplosiv', 'Ultravision',\n",
       "       'GameMill Entertainment', 'Wanadoo', 'NovaLogic', 'Telltale Games',\n",
       "       'Epoch', 'BAM! Entertainment', 'Knowledge Adventure', 'Mastiff',\n",
       "       'Tetris Online', 'Harmonix Music Systems', 'ESP', 'TYO',\n",
       "       'Telegames', 'Mud Duck Productions', 'Screenlife', 'Pioneer LDC',\n",
       "       'Magical Company', 'Mentor Interactive', 'Kemco',\n",
       "       'Human Entertainment', 'Avanquest', 'Data Age',\n",
       "       'Electronic Arts Victor', 'Black Bean Games', 'Jack of All Games',\n",
       "       '989 Sports', 'Takara Tomy', 'Media Rings', 'Elf', 'Kalypso Media',\n",
       "       'Starfish', 'Zushi Games', 'Jorudan', 'Destination Software, Inc',\n",
       "       'New', 'Brash Entertainment', 'ITT Family Games', 'PopCap Games',\n",
       "       'Home Entertainment Suppliers', 'Ackkstudios', 'Starpath Corp.',\n",
       "       'P2 Games', 'BPS', 'Gathering of Developers', 'NewKidCo',\n",
       "       'Storm City Games', 'CokeM Interactive', 'CBS Electronics',\n",
       "       'Magix', 'Marvelous Interactive', 'Nihon Falcom Corporation',\n",
       "       'Wargaming.net', 'Angel Studios', 'Arc System Works', 'Playmates',\n",
       "       'SNK Playmore', 'Hamster Corporation', 'From Software',\n",
       "       'Nippon Columbia', 'Nichibutsu', 'Little Orbit',\n",
       "       'Conspiracy Entertainment', 'DTP Entertainment', 'Hect',\n",
       "       'Mumbo Jumbo', 'Pacific Century Cyber Works', 'Indie Games',\n",
       "       'Liquid Games', 'NEC', 'Axela', 'ArtDink', 'Sunsoft', 'Gust',\n",
       "       'SNK', 'NEC Interchannel', 'FuRyu', 'Xing Entertainment',\n",
       "       'ValuSoft', 'Victor Interactive', 'Detn8 Games',\n",
       "       'American Softworks', 'Nordcurrent', 'Bomb', 'Falcom Corporation',\n",
       "       'AQ Interactive', 'CCP', 'Milestone S.r.l.', 'Sears',\n",
       "       'JoWood Productions', 'Seta Corporation', 'On Demand', 'NCS',\n",
       "       'Aspyr', 'Gremlin Interactive Ltd', 'Agatsuma Entertainment',\n",
       "       'Compile Heart', 'Culture Brain', 'Mad Catz', 'Shogakukan',\n",
       "       'Merscom LLC', 'Rebellion Developments', 'Nippon Telenet',\n",
       "       'TDK Core', 'bitComposer Games', 'Foreign Media Games', 'Astragon',\n",
       "       'SSI', 'Kadokawa Games', 'Idea Factory',\n",
       "       'Performance Designed Products', 'Asylum Entertainment',\n",
       "       'Core Design Ltd.', 'PlayV', 'UFO Interactive',\n",
       "       'Idea Factory International', 'Playlogic Game Factory',\n",
       "       'Essential Games', 'Adeline Software', 'Funcom',\n",
       "       'Panther Software', 'Blast! Entertainment Ltd', 'Game Life',\n",
       "       'DSI Games', 'Avalon Interactive', 'Popcorn Arcade',\n",
       "       'Neko Entertainment', 'Vir2L Studios', 'Aques', 'Syscom',\n",
       "       'White Park Bay Software', 'System 3', 'Vatical Entertainment',\n",
       "       'Daedalic', 'EA Games', 'Media Factory', 'Vic Tokai',\n",
       "       'The Adventure Company', 'Game Arts', 'Broccoli', 'Acquire',\n",
       "       'General Entertainment', 'Excalibur Publishing', 'Imadio',\n",
       "       'Swing! Entertainment', 'Sony Music Entertainment', 'Aqua Plus',\n",
       "       'Paradox Interactive', 'Hip Interactive',\n",
       "       'DreamCatcher Interactive', 'Tripwire Interactive', 'Sting',\n",
       "       'Yacht Club Games', 'SCS Software', 'Bigben Interactive',\n",
       "       'Havas Interactive', 'Slitherine Software', 'Graffiti', 'Funsta',\n",
       "       'Telstar', 'U.S. Gold', 'DreamWorks Interactive',\n",
       "       'Data Design Interactive', 'MTO', 'DHM Interactive', 'FunSoft',\n",
       "       'SPS', 'Bohemia Interactive', 'Reef Entertainment',\n",
       "       'Tru Blu Entertainment', 'Moss', 'T&E Soft', 'O-Games',\n",
       "       'Aksys Games', 'NDA Productions', 'Data East',\n",
       "       'Time Warner Interactive', 'Gainax Network Systems', 'Daito',\n",
       "       'O3 Entertainment', 'Gameloft', 'Xicat Interactive',\n",
       "       'Simon & Schuster Interactive', 'Valcon Games', 'PopTop Software',\n",
       "       'TOHO', 'HMH Interactive', '5pb', 'Cave',\n",
       "       'CDV Software Entertainment', 'Microids', 'PM Studios', 'Paon',\n",
       "       'Micro Cabin', 'GameTek', 'Benesse', 'Type-Moon',\n",
       "       'Enjoy Gaming ltd.', 'Asmik Corp', 'Interplay Productions',\n",
       "       'Asmik Ace Entertainment', 'inXile Entertainment', 'Image Epoch',\n",
       "       'Phantom EFX', 'Evolved Games', 'responDESIGN',\n",
       "       'Culture Publishers', 'Griffin International', 'Hackberry',\n",
       "       'Hearty Robin', 'Nippon Amuse', 'Origin Systems', 'Seventh Chord',\n",
       "       'Mitsui', 'Milestone', 'Abylight', 'Flight-Plan', 'Glams', 'Locus',\n",
       "       'Warp', 'Daedalic Entertainment', 'Alternative Software',\n",
       "       'Myelin Media', 'Mercury Games', 'Irem Software Engineering',\n",
       "       'Sunrise Interactive', 'Elite', 'Evolution Games', 'Tivola',\n",
       "       'Global A Entertainment', 'Edia', 'Athena', 'Aria', 'Gamecock',\n",
       "       'Tommo', 'Altron', 'Happinet', 'iWin', 'Media Works', 'Fortyfive',\n",
       "       'Revolution Software', 'Imax', 'Crimson Cow', '10TACLE Studios',\n",
       "       'Groove Games', 'Pack-In-Video', 'Insomniac Games',\n",
       "       'Ascaron Entertainment GmbH', 'Asgard', 'Ecole', 'Yumedia',\n",
       "       'Phenomedia', 'HAL Laboratory', 'Grand Prix Games', 'DigiCube',\n",
       "       'Creative Core', 'Kaga Create', 'WayForward Technologies',\n",
       "       'LSP Games', 'ASCII Media Works', 'Coconuts Japan', 'Arika',\n",
       "       'Ertain', 'Marvel Entertainment', 'Prototype',\n",
       "       'TopWare Interactive', 'Phantagram', '1C Company',\n",
       "       'The Learning Company', 'TechnoSoft', 'Vap', 'Misawa', 'Tradewest',\n",
       "       'Team17 Software', 'Yeti', 'Pow', 'Navarre Corp', 'MediaQuest',\n",
       "       'Max Five', 'Comfort', 'Monte Christo Multimedia', 'Pony Canyon',\n",
       "       'Riverhillsoft', 'Summitsoft', 'Milestone S.r.l', 'Playmore',\n",
       "       'MLB.com', 'Kool Kizz', 'Flashpoint Games', '49Games',\n",
       "       'Legacy Interactive', 'Alawar Entertainment', 'CyberFront',\n",
       "       'Cloud Imperium Games Corporation', 'Societa',\n",
       "       'Virtual Play Games', 'Interchannel', 'Sonnet', 'Experience Inc.',\n",
       "       'Zenrin', 'Iceberg Interactive', 'Ivolgamus', '2D Boy',\n",
       "       'MC2 Entertainment', 'Kando Games', 'Just Flight', 'Office Create',\n",
       "       'Mamba Games', 'Fields', 'Princess Soft', 'Maximum Family Games',\n",
       "       'Berkeley', 'Fuji', 'Dusenberry Martin Racing', 'imageepoch Inc.',\n",
       "       'Big Fish Games', 'Her Interactive', 'Kamui', 'ASK',\n",
       "       'Headup Games', 'KSS', 'Cygames', 'KID', 'Quinrose', 'Sunflowers',\n",
       "       'dramatic create', 'TGL', 'Encore', 'Extreme Entertainment Group',\n",
       "       'Intergrow', 'G.Rev', 'Sweets', 'Kokopeli Digital Studios',\n",
       "       'Number None', 'Nexon', 'id Software', 'BushiRoad', 'Tryfirst',\n",
       "       'Strategy First', '7G//AMES', 'GN Software', \"Yuke's\",\n",
       "       'Easy Interactive', 'Licensed 4U', 'FuRyu Corporation',\n",
       "       'Lexicon Entertainment', 'Paon Corporation', 'Kids Station', 'GOA',\n",
       "       'Graphsim Entertainment', 'King Records', 'Introversion Software',\n",
       "       'Minato Station', 'Devolver Digital', 'Blue Byte', 'Gaga',\n",
       "       'Yamasa Entertainment', 'Plenty', 'Views', 'fonfun', 'NetRevo',\n",
       "       'Codemasters Online', 'Quintet', 'Phoenix Games', 'Dorart',\n",
       "       'Marvelous Games', 'Focus Multimedia', 'Imageworks',\n",
       "       'Karin Entertainment', 'Aerosoft', 'Technos Japan Corporation',\n",
       "       'Gakken', 'Mirai Shounen', 'Datam Polystar', 'Saurus', 'HuneX',\n",
       "       'Revolution (Japan)', 'Giza10', 'Visco', 'Alvion', 'Mycom', 'Giga',\n",
       "       'Warashi', 'System Soft', 'Sold Out', 'Lighthouse Interactive',\n",
       "       'Masque Publishing', 'RED Entertainment', 'Michaelsoft',\n",
       "       'Media Entertainment', 'New World Computing', 'Genterprise',\n",
       "       'Interworks Unlimited, Inc.', 'Boost On', 'Stainless Games',\n",
       "       'EON Digital Entertainment', 'Epic Games', 'Naxat Soft',\n",
       "       'Ascaron Entertainment', 'Piacci', 'Nitroplus',\n",
       "       'Paradox Development', 'Otomate', 'Ongakukan', 'Commseed',\n",
       "       'Inti Creates', 'Takuyo', 'Interchannel-Holon', 'Rain Games',\n",
       "       'UIG Entertainment'], dtype=object)"
      ]
     },
     "execution_count": 16,
     "metadata": {},
     "output_type": "execute_result"
    }
   ],
   "source": [
    "df1['Publisher'].unique()"
   ]
  },
  {
   "cell_type": "code",
   "execution_count": null,
   "id": "648c89da-7e9f-4f0b-8b99-a89043f4178d",
   "metadata": {},
   "outputs": [],
   "source": [
    "# Inserting the month format on the year column and date \n",
    "\n",
    "# df1['Year'] = pd.to_datetime(df1['Year'])\n",
    "# df1['Year'] = df1['Year'].dt.strftime('%Y')"
   ]
  },
  {
   "cell_type": "markdown",
   "id": "fab5ae5f-110f-4389-95be-8224ddd0982c",
   "metadata": {},
   "source": [
    "# Exploratory Data Analysis"
   ]
  },
  {
   "cell_type": "code",
   "execution_count": 17,
   "id": "4c2f2f6b-416a-4540-93f3-ec9e45579019",
   "metadata": {},
   "outputs": [],
   "source": [
    "# finding correlation between the numerical columns\n",
    "Relation = df1[df1.columns[5:]].corr()"
   ]
  },
  {
   "cell_type": "code",
   "execution_count": 18,
   "id": "ad00032f-f5df-4841-8fb7-028df7576cee",
   "metadata": {},
   "outputs": [
    {
     "data": {
      "text/html": [
       "<div>\n",
       "<style scoped>\n",
       "    .dataframe tbody tr th:only-of-type {\n",
       "        vertical-align: middle;\n",
       "    }\n",
       "\n",
       "    .dataframe tbody tr th {\n",
       "        vertical-align: top;\n",
       "    }\n",
       "\n",
       "    .dataframe thead th {\n",
       "        text-align: right;\n",
       "    }\n",
       "</style>\n",
       "<table border=\"1\" class=\"dataframe\">\n",
       "  <thead>\n",
       "    <tr style=\"text-align: right;\">\n",
       "      <th></th>\n",
       "      <th>NA_Sales</th>\n",
       "      <th>EU_Sales</th>\n",
       "      <th>JP_Sales</th>\n",
       "      <th>Other_Sales</th>\n",
       "      <th>Global_Sales</th>\n",
       "    </tr>\n",
       "  </thead>\n",
       "  <tbody>\n",
       "    <tr>\n",
       "      <th>NA_Sales</th>\n",
       "      <td>1.000000</td>\n",
       "      <td>0.767727</td>\n",
       "      <td>0.449787</td>\n",
       "      <td>0.634737</td>\n",
       "      <td>0.941047</td>\n",
       "    </tr>\n",
       "    <tr>\n",
       "      <th>EU_Sales</th>\n",
       "      <td>0.767727</td>\n",
       "      <td>1.000000</td>\n",
       "      <td>0.435584</td>\n",
       "      <td>0.726385</td>\n",
       "      <td>0.902836</td>\n",
       "    </tr>\n",
       "    <tr>\n",
       "      <th>JP_Sales</th>\n",
       "      <td>0.449787</td>\n",
       "      <td>0.435584</td>\n",
       "      <td>1.000000</td>\n",
       "      <td>0.290186</td>\n",
       "      <td>0.611816</td>\n",
       "    </tr>\n",
       "    <tr>\n",
       "      <th>Other_Sales</th>\n",
       "      <td>0.634737</td>\n",
       "      <td>0.726385</td>\n",
       "      <td>0.290186</td>\n",
       "      <td>1.000000</td>\n",
       "      <td>0.748331</td>\n",
       "    </tr>\n",
       "    <tr>\n",
       "      <th>Global_Sales</th>\n",
       "      <td>0.941047</td>\n",
       "      <td>0.902836</td>\n",
       "      <td>0.611816</td>\n",
       "      <td>0.748331</td>\n",
       "      <td>1.000000</td>\n",
       "    </tr>\n",
       "  </tbody>\n",
       "</table>\n",
       "</div>"
      ],
      "text/plain": [
       "              NA_Sales  EU_Sales  JP_Sales  Other_Sales  Global_Sales\n",
       "NA_Sales      1.000000  0.767727  0.449787     0.634737      0.941047\n",
       "EU_Sales      0.767727  1.000000  0.435584     0.726385      0.902836\n",
       "JP_Sales      0.449787  0.435584  1.000000     0.290186      0.611816\n",
       "Other_Sales   0.634737  0.726385  0.290186     1.000000      0.748331\n",
       "Global_Sales  0.941047  0.902836  0.611816     0.748331      1.000000"
      ]
     },
     "execution_count": 18,
     "metadata": {},
     "output_type": "execute_result"
    }
   ],
   "source": [
    "Relation"
   ]
  },
  {
   "cell_type": "code",
   "execution_count": 19,
   "id": "02ca05b6-0487-4d74-b623-d223f44dd3b0",
   "metadata": {},
   "outputs": [],
   "source": [
    "# Groupby on the columns\n",
    "GenrePublished = df1.groupby(['Genre'])[df1.columns[5:]].agg(['sum', 'mean'])"
   ]
  },
  {
   "cell_type": "code",
   "execution_count": 20,
   "id": "3ac3a608-c8bb-46c8-bf43-3ef4953fd061",
   "metadata": {},
   "outputs": [],
   "source": [
    "PublisherGrouped = df1.groupby(['Publisher'])[df1.columns[5:]].agg(['sum', 'mean'])"
   ]
  },
  {
   "cell_type": "code",
   "execution_count": 21,
   "id": "2e94dbcb-32d3-45f7-9b01-52d5a8e1438f",
   "metadata": {},
   "outputs": [
    {
     "data": {
      "text/html": [
       "<div>\n",
       "<style scoped>\n",
       "    .dataframe tbody tr th:only-of-type {\n",
       "        vertical-align: middle;\n",
       "    }\n",
       "\n",
       "    .dataframe tbody tr th {\n",
       "        vertical-align: top;\n",
       "    }\n",
       "\n",
       "    .dataframe thead th {\n",
       "        text-align: right;\n",
       "    }\n",
       "</style>\n",
       "<table border=\"1\" class=\"dataframe\">\n",
       "  <thead>\n",
       "    <tr style=\"text-align: right;\">\n",
       "      <th></th>\n",
       "      <th>Year</th>\n",
       "      <th>NA_Sales</th>\n",
       "      <th>EU_Sales</th>\n",
       "      <th>JP_Sales</th>\n",
       "      <th>Other_Sales</th>\n",
       "      <th>Global_Sales</th>\n",
       "    </tr>\n",
       "  </thead>\n",
       "  <tbody>\n",
       "    <tr>\n",
       "      <th>count</th>\n",
       "      <td>16598.000000</td>\n",
       "      <td>16598.000000</td>\n",
       "      <td>16598.000000</td>\n",
       "      <td>16598.000000</td>\n",
       "      <td>16598.000000</td>\n",
       "      <td>16598.000000</td>\n",
       "    </tr>\n",
       "    <tr>\n",
       "      <th>mean</th>\n",
       "      <td>2005.975298</td>\n",
       "      <td>0.264667</td>\n",
       "      <td>0.146652</td>\n",
       "      <td>0.077782</td>\n",
       "      <td>0.048063</td>\n",
       "      <td>0.537441</td>\n",
       "    </tr>\n",
       "    <tr>\n",
       "      <th>std</th>\n",
       "      <td>6.679972</td>\n",
       "      <td>0.816683</td>\n",
       "      <td>0.505351</td>\n",
       "      <td>0.309291</td>\n",
       "      <td>0.188588</td>\n",
       "      <td>1.555028</td>\n",
       "    </tr>\n",
       "    <tr>\n",
       "      <th>min</th>\n",
       "      <td>1980.000000</td>\n",
       "      <td>0.000000</td>\n",
       "      <td>0.000000</td>\n",
       "      <td>0.000000</td>\n",
       "      <td>0.000000</td>\n",
       "      <td>0.010000</td>\n",
       "    </tr>\n",
       "    <tr>\n",
       "      <th>25%</th>\n",
       "      <td>2003.000000</td>\n",
       "      <td>0.000000</td>\n",
       "      <td>0.000000</td>\n",
       "      <td>0.000000</td>\n",
       "      <td>0.000000</td>\n",
       "      <td>0.060000</td>\n",
       "    </tr>\n",
       "    <tr>\n",
       "      <th>50%</th>\n",
       "      <td>2007.000000</td>\n",
       "      <td>0.080000</td>\n",
       "      <td>0.020000</td>\n",
       "      <td>0.000000</td>\n",
       "      <td>0.010000</td>\n",
       "      <td>0.170000</td>\n",
       "    </tr>\n",
       "    <tr>\n",
       "      <th>75%</th>\n",
       "      <td>2010.000000</td>\n",
       "      <td>0.240000</td>\n",
       "      <td>0.110000</td>\n",
       "      <td>0.040000</td>\n",
       "      <td>0.040000</td>\n",
       "      <td>0.470000</td>\n",
       "    </tr>\n",
       "    <tr>\n",
       "      <th>max</th>\n",
       "      <td>2020.000000</td>\n",
       "      <td>41.490000</td>\n",
       "      <td>29.020000</td>\n",
       "      <td>10.220000</td>\n",
       "      <td>10.570000</td>\n",
       "      <td>82.740000</td>\n",
       "    </tr>\n",
       "  </tbody>\n",
       "</table>\n",
       "</div>"
      ],
      "text/plain": [
       "               Year      NA_Sales      EU_Sales      JP_Sales   Other_Sales  \\\n",
       "count  16598.000000  16598.000000  16598.000000  16598.000000  16598.000000   \n",
       "mean    2005.975298      0.264667      0.146652      0.077782      0.048063   \n",
       "std        6.679972      0.816683      0.505351      0.309291      0.188588   \n",
       "min     1980.000000      0.000000      0.000000      0.000000      0.000000   \n",
       "25%     2003.000000      0.000000      0.000000      0.000000      0.000000   \n",
       "50%     2007.000000      0.080000      0.020000      0.000000      0.010000   \n",
       "75%     2010.000000      0.240000      0.110000      0.040000      0.040000   \n",
       "max     2020.000000     41.490000     29.020000     10.220000     10.570000   \n",
       "\n",
       "       Global_Sales  \n",
       "count  16598.000000  \n",
       "mean       0.537441  \n",
       "std        1.555028  \n",
       "min        0.010000  \n",
       "25%        0.060000  \n",
       "50%        0.170000  \n",
       "75%        0.470000  \n",
       "max       82.740000  "
      ]
     },
     "execution_count": 21,
     "metadata": {},
     "output_type": "execute_result"
    }
   ],
   "source": [
    "df1.describe()"
   ]
  },
  {
   "cell_type": "markdown",
   "id": "5e6f2da2-b181-47c2-99a3-4fdbbe16b836",
   "metadata": {},
   "source": [
    "# Visualizating the data"
   ]
  },
  {
   "cell_type": "code",
   "execution_count": 22,
   "id": "082f33ed-daf4-4054-bdc5-de5de972c077",
   "metadata": {},
   "outputs": [
    {
     "data": {
      "image/png": "[encoded data removed]",
      "text/plain": [
       "<Figure size 1200x900 with 2 Axes>"
      ]
     },
     "metadata": {},
     "output_type": "display_data"
    }
   ],
   "source": [
    "# heatmap on the correlation\n",
    "plt.subplots(figsize=(12, 9))\n",
    "sns.heatmap(Relation, annot=True, linewidths=.5, linecolor='black',cmap=sns.cubehelix_palette(as_cmap=True), \n",
    "            cbar= True, xticklabels='auto', yticklabels='auto')\n",
    "plt.title('Correlation on the numerical values \\n', fontsize=20)\n",
    "\n",
    "plt.tick_params(axis='x', labelsize=15)\n",
    "plt.tick_params(axis='y', labelsize=15)\n",
    "plt.show()\n"
   ]
  },
  {
   "cell_type": "code",
   "execution_count": null,
   "id": "ee71ff34-b83e-423d-9efb-c8ec9444e998",
   "metadata": {},
   "outputs": [],
   "source": [
    "# bar chart for the data on a subplot\n",
    "# fig, ((ax1, ax2), (ax3, ax4))  = plt.subplots(nrows=2, ncols=2, figsize=(18,10))\n",
    "class creatingsubplot:\n",
    "    def __init__(self,data):\n",
    "        self.data = data\n",
    "        \n",
    "    def createsubplot(self):\n",
    "        fig, axes  = plt.subplots(nrows=3, ncols=2, figsize=(19,15))\n",
    "\n",
    "        self.create_subplot(axes[0,0], 'NA_Sales', 'sum')\n",
    "        self.create_subplot(axes[0,1], 'NA_Sales', 'mean')\n",
    "        self.create_subplot(axes[1,0], 'EU_Sales', 'sum')\n",
    "        self.create_subplot(axes[1,1], 'EU_Sales', 'mean')\n",
    "        self.create_subplot(axes[2,0], 'JP_Sales', 'sum')\n",
    "        self.create_subplot(axes[2,1], 'JP_Sales', 'mean')\n",
    "\n",
    "        axes[0,0].set_xlabel('Sum',fontsize=14, fontweight='bold')\n",
    "        axes[0,0].tick_params(axis='both', labelsize=14)\n",
    "\n",
    "        axes[0,1].set_xlabel('mean',fontsize=14, fontweight='bold')\n",
    "        axes[0,1].tick_params(axis='both', labelsize=14)\n",
    "\n",
    "        axes[1,0].set_xlabel('Sum',fontsize=14, fontweight='bold')\n",
    "        axes[1,0].tick_params(axis='both', labelsize=14)\n",
    "\n",
    "        axes[1,1].set_xlabel('mean',fontsize=14, fontweight='bold')\n",
    "        axes[1,1].tick_params(axis='both', labelsize=14)\n",
    "\n",
    "        axes[2,0].set_xlabel('sum',fontsize=14, fontweight='bold')\n",
    "        axes[2,0].tick_params(axis='both', labelsize=14)\n",
    "\n",
    "        axes[2,1].set_xlabel('mean',fontsize=14, fontweight='bold')\n",
    "        axes[2,1].tick_params(axis='both', labelsize=14)\n",
    "       \n",
    "        plt.tight_layout()\n",
    "        plt.show()\n",
    "\n",
    "    def create_subplot(self, ax, region, agg_funct):\n",
    "        sns.barplot(\n",
    "            data=self.data,\n",
    "            x=self.data[region][agg_funct],\n",
    "            y='Genre',\n",
    "            orient = 'h',\n",
    "            palette='colorblind',\n",
    "            hue = 'Genre',\n",
    "            legend = False,\n",
    "            ax=ax\n",
    "        )\n",
    "        \n",
    "        ax.set_title(f'{region} {agg_funct.capitalize()} for the Genre', fontsize=20)\n",
    "        ax.set_ylabel('Genre', fontsize=20, fontweight='bold')\n",
    "       \n",
    "\n",
    "if __name__ == \"__main__\":\n",
    "    plot = creatingsubplot(GenrePublished)\n",
    "    plot.createsubplot()"
   ]
  },
  {
   "cell_type": "code",
   "execution_count": null,
   "id": "b7f81edf-4592-487d-81e9-738dfbb5e32d",
   "metadata": {},
   "outputs": [],
   "source": [
    "# subplot design using line chart\n",
    "class creatingLineSubplots:\n",
    "    def __init__(self, data):\n",
    "        self.data = data\n",
    "        \n",
    "    def linesubplot(self):\n",
    "        fig, axes = plt.subplots(nrows=2, ncols=2, figsize=(18, 10))\n",
    "\n",
    "        self.line_subplot(axes[0,0], 'Other_Sales', 'sum')\n",
    "        self.line_subplot(axes[0,1], 'Other_Sales', 'mean')\n",
    "        self.line_subplot(axes[1,0], 'Global_Sales', 'sum')\n",
    "        self.line_subplot(axes[1,1], 'Global_Sales', 'sum')\n",
    "\n",
    "        \n",
    "        axes[0,0].set_xlabel('Sum',fontsize=14, fontweight='bold')\n",
    "        axes[0,0].tick_params(axis='both', labelsize=14)\n",
    "\n",
    "        axes[0,1].set_xlabel('mean',fontsize=14, fontweight='bold')\n",
    "        axes[0,1].tick_params(axis='both', labelsize=14)\n",
    "\n",
    "        axes[1,0].set_xlabel('Sum',fontsize=14, fontweight='bold')\n",
    "        axes[1,0].tick_params(axis='both', labelsize=14)\n",
    "\n",
    "        axes[1,1].set_xlabel('mean',fontsize=14, fontweight='bold')\n",
    "        axes[1,1].tick_params(axis='both', labelsize=14)\n",
    "\n",
    "        plt.tight_layout()\n",
    "        plt.show()\n",
    "\n",
    "    def line_subplot(self, ax, regions, agg_function):\n",
    "        sns.lineplot(\n",
    "            data= self.data,\n",
    "            x = self.data[regions][agg_function],\n",
    "            y = 'Genre',\n",
    "            marker='o',\n",
    "            color='b',\n",
    "            ax=ax\n",
    "        )\n",
    "        ax.set_title(f'{regions} {agg_function.capitalize()} for the Genre', fontsize=20)\n",
    "        ax.set_ylabel('Genre', fontsize=20, fontweight='bold')\n",
    "\n",
    "if __name__ == \"__main__\":\n",
    "    lineplot = creatingLineSubplots(GenrePublished)\n",
    "    lineplot.linesubplot()"
   ]
  },
  {
   "cell_type": "code",
   "execution_count": null,
   "id": "1c7bcd67-0bd8-43fa-a649-99a1545cf25d",
   "metadata": {},
   "outputs": [],
   "source": [
    "#scatter plot for the graph to show the outliners for each continent sale\n",
    "class scatterplotdesign:\n",
    "    def __init__(self, data):\n",
    "        self.data=data\n",
    "        \n",
    "    def scatter_plot(self):\n",
    "        fig, axes = plt.subplots(nrows=2, ncols=2, figsize=(20, 10))\n",
    "        self.scatterDiagram(axes[0,0], 'NA_Sales', 'sum', 'mean')\n",
    "        self.scatterDiagram(axes[0,1], 'JP_Sales', 'sum', 'mean')\n",
    "        self.scatterDiagram(axes[1,0], 'EU_Sales', 'sum', 'mean')\n",
    "        self.scatterDiagram(axes[1,1], 'Other_Sales', 'sum', 'mean')\n",
    "\n",
    "        axes[0,0].set_xlabel('mean',fontsize=14, fontweight='bold')\n",
    "        axes[0,0].tick_params(axis='both', labelsize=14)\n",
    "\n",
    "        axes[0,1].set_xlabel('mean',fontsize=14, fontweight='bold')\n",
    "        axes[0,1].tick_params(axis='both', labelsize=14)\n",
    "\n",
    "        axes[1,0].set_xlabel('mean',fontsize=14, fontweight='bold')\n",
    "        axes[1,0].tick_params(axis='both', labelsize=14)\n",
    "\n",
    "        axes[1,1].set_xlabel('mean',fontsize=14, fontweight='bold')\n",
    "        axes[1,1].tick_params(axis='both', labelsize=14)\n",
    "\n",
    "        plt.tight_layout()\n",
    "        plt.show()\n",
    "\n",
    "    def scatterDiagram(self, ax, region, agg_funct, agg_funct2):\n",
    "        sns.scatterplot(\n",
    "            data= self.data,\n",
    "            x = self.data[region][agg_funct2],\n",
    "            y = self.data[region][agg_funct],\n",
    "            ax = ax,\n",
    "            hue = 'Genre'\n",
    "        )\n",
    "        ax.set_title(f'{region} {agg_funct.capitalize()} for the Genre', fontsize=20)\n",
    "        ax.set_ylabel('sum', fontsize=20, fontweight='bold')\n",
    "        ax.legend(title=\"Genre\", fontsize=8, title_fontsize=14, loc=\"upper left\")\n",
    "\n",
    "        \n",
    "\n",
    "if __name__ == \"__main__\":\n",
    "    plot = scatterplotdesign(GenrePublished)\n",
    "    plot.scatter_plot()\n"
   ]
  },
  {
   "cell_type": "code",
   "execution_count": null,
   "id": "fd4ba2da-9666-419c-935c-c1eb71c00e5f",
   "metadata": {},
   "outputs": [],
   "source": [
    "# year and sales \n",
    "grouped_samples = pd.DataFrame(df1[['Year','Publisher','NA_Sales']]"
   ]
  },
  {
   "cell_type": "code",
   "execution_count": null,
   "id": "45723482-d4c2-4de5-9a7b-cc710b1bb38f",
   "metadata": {},
   "outputs": [],
   "source": [
    "pd.set_option('display.max_row', None)"
   ]
  },
  {
   "cell_type": "code",
   "execution_count": null,
   "id": "448d5e1d-fd69-4c52-af0e-955b723fe07c",
   "metadata": {},
   "outputs": [],
   "source": [
    "grouped_Nintendo = grouped_samples[grouped_samples['Publisher'].isin(['Nintendo'])]"
   ]
  },
  {
   "cell_type": "code",
   "execution_count": null,
   "id": "d5770407-ecd0-4cf6-a210-9247045e4d6a",
   "metadata": {},
   "outputs": [],
   "source": []
  },
  {
   "cell_type": "code",
   "execution_count": null,
   "id": "2b3fceae-9231-4979-9551-c26bbf1de205",
   "metadata": {},
   "outputs": [],
   "source": []
  }
 ],
 "metadata": {
  "kernelspec": {
   "display_name": "Python 3 (ipykernel)",
   "language": "python",
   "name": "python3"
  },
  "language_info": {
   "codemirror_mode": {
    "name": "ipython",
    "version": 3
   },
   "file_extension": ".py",
   "mimetype": "text/x-python",
   "name": "python",
   "nbconvert_exporter": "python",
   "pygments_lexer": "ipython3",
   "version": "3.12.6"
  }
 },
 "nbformat": 4,
 "nbformat_minor": 5
}
