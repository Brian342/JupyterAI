{
 "cells": [
  {
   "cell_type": "markdown",
   "metadata": {
    "colab_type": "text",
    "id": "view-in-github"
   },
   "source": [
    "<a href=\"https://colab.research.google.com/github/Brian342/JupyterLab/blob/main/pythonAIlab.ipynb\" target=\"_parent\"><img src=\"https://colab.research.google.com/assets/colab-badge.svg\" alt=\"Open In Colab\"/></a>"
   ]
  },
  {
   "cell_type": "code",
   "execution_count": 2,
   "metadata": {
    "colab": {
     "base_uri": "https://localhost:8080/"
    },
    "id": "jwXo3GN-wUUJ",
    "outputId": "7eef66f5-9ed6-4dde-97b6-c95a3871f56a"
   },
   "outputs": [
    {
     "name": "stdout",
     "output_type": "stream",
     "text": [
      "2.0.2\n",
      "2.2.2\n"
     ]
    }
   ],
   "source": [
    "# checking the version of pandas and numpy installed using the following commands\n",
    "import numpy as np\n",
    "print(np.__version__)\n",
    "import pandas as pd\n",
    "print(pd.__version__)"
   ]
  },
  {
   "cell_type": "code",
   "execution_count": 3,
   "metadata": {
    "colab": {
     "base_uri": "https://localhost:8080/"
    },
    "id": "ps-8nI95TU1m",
    "outputId": "e79bfcb6-d175-446b-aa4a-e4cd6eb3ed26"
   },
   "outputs": [
    {
     "name": "stdout",
     "output_type": "stream",
     "text": [
      "Hello HCIA-Huawei Team\n"
     ]
    }
   ],
   "source": [
    "# program to print a word\n",
    "word = \"Hello HCIA-Huawei Team\"\n",
    "print(word)"
   ]
  },
  {
   "cell_type": "code",
   "execution_count": 4,
   "metadata": {
    "colab": {
     "base_uri": "https://localhost:8080/"
    },
    "id": "D9kRpc6lTnS3",
    "outputId": "ff0bf10a-b9e6-4811-9188-abcca1734777"
   },
   "outputs": [
    {
     "name": "stdout",
     "output_type": "stream",
     "text": [
      "The sum of 100 + 90 = 190\n"
     ]
    }
   ],
   "source": [
    "# a program to define 2 variables, calculate their sum and display the result\n",
    "num1 = 100\n",
    "num2 = 90\n",
    "sum = num1 + num2\n",
    "print(f\"The sum of {num1} + {num2} = {sum}\")"
   ]
  },
  {
   "cell_type": "code",
   "execution_count": 5,
   "metadata": {
    "colab": {
     "base_uri": "https://localhost:8080/"
    },
    "id": "w1Mvh9IJUXsc",
    "outputId": "d3b14a9a-bc33-4ec9-a72e-288a23c70c36"
   },
   "outputs": [
    {
     "name": "stdout",
     "output_type": "stream",
     "text": [
      "(1,)\n"
     ]
    }
   ],
   "source": [
    "# write a program to define 2 tuples that contains only one element\n",
    "tuple1 = (1,)\n",
    "print(tuple1)"
   ]
  },
  {
   "cell_type": "code",
   "execution_count": 6,
   "metadata": {
    "colab": {
     "base_uri": "https://localhost:8080/"
    },
    "id": "Mon1-qgYVo5O",
    "outputId": "446fa239-eed5-4e54-c543-86fd447a375a"
   },
   "outputs": [
    {
     "name": "stdout",
     "output_type": "stream",
     "text": [
      "1\n",
      "2\n",
      "3\n",
      "4\n",
      "6\n",
      "7\n"
     ]
    }
   ],
   "source": [
    "# Write a programme to define a tuple with 5 elements and then use 'for loop' to print\n",
    "sample = (1,2,3,4,6,7)\n",
    "for t in sample:\n",
    "  print(t)"
   ]
  },
  {
   "cell_type": "code",
   "execution_count": 7,
   "metadata": {
    "colab": {
     "base_uri": "https://localhost:8080/"
    },
    "id": "9RISxcWaWMJM",
    "outputId": "2fa1bf1d-1265-4b93-bae4-9060fbbdb1d1"
   },
   "outputs": [
    {
     "name": "stdout",
     "output_type": "stream",
     "text": [
      "[1, 2, 3, 4, 5, 1, 2, 3, 4, 5, 1, 2, 3, 4, 5]\n"
     ]
    }
   ],
   "source": [
    "# Define the variables x and y as list of numbers and z as a tuple\n",
    "x = [1,2,3,4,5]\n",
    "y = [11,12,13,14,15]\n",
    "z = (21,22,23,24,25)\n",
    "\n",
    "# a what is the value of 3 * x\n",
    "print(3 * x)"
   ]
  },
  {
   "cell_type": "code",
   "execution_count": 8,
   "metadata": {
    "colab": {
     "base_uri": "https://localhost:8080/"
    },
    "id": "Q3FSegwnYVxX",
    "outputId": "fb24524e-e280-4cb6-bc4e-5eb14b16de1c"
   },
   "outputs": [
    {
     "name": "stdout",
     "output_type": "stream",
     "text": [
      "[1, 2, 3, 4, 5, 11, 12, 13, 14, 15]\n"
     ]
    }
   ],
   "source": [
    "# what is the value of x+y\n",
    "print(x+y)"
   ]
  },
  {
   "cell_type": "code",
   "execution_count": 9,
   "metadata": {
    "colab": {
     "base_uri": "https://localhost:8080/",
     "height": 162
    },
    "id": "qcCc9DsfYdXF",
    "outputId": "1ae05f04-cb9f-45fc-8554-0d9e40317edf"
   },
   "outputs": [
    {
     "ename": "TypeError",
     "evalue": "unsupported operand type(s) for -: 'list' and 'list'",
     "output_type": "error",
     "traceback": [
      "\u001b[0;31m---------------------------------------------------------------------------\u001b[0m",
      "\u001b[0;31mTypeError\u001b[0m                                 Traceback (most recent call last)",
      "\u001b[0;32m<ipython-input-9-2308937400>\u001b[0m in \u001b[0;36m<cell line: 0>\u001b[0;34m()\u001b[0m\n\u001b[1;32m      1\u001b[0m \u001b[0;31m# what is the value of x-y\u001b[0m\u001b[0;34m\u001b[0m\u001b[0;34m\u001b[0m\u001b[0m\n\u001b[0;32m----> 2\u001b[0;31m \u001b[0mprint\u001b[0m\u001b[0;34m(\u001b[0m\u001b[0mx\u001b[0m\u001b[0;34m-\u001b[0m\u001b[0my\u001b[0m\u001b[0;34m)\u001b[0m\u001b[0;34m\u001b[0m\u001b[0;34m\u001b[0m\u001b[0m\n\u001b[0m",
      "\u001b[0;31mTypeError\u001b[0m: unsupported operand type(s) for -: 'list' and 'list'"
     ]
    }
   ],
   "source": [
    "# what is the value of x-y\n",
    "print(x-y)"
   ]
  },
  {
   "cell_type": "code",
   "execution_count": 10,
   "metadata": {
    "colab": {
     "base_uri": "https://localhost:8080/"
    },
    "id": "XMb51_mPYid8",
    "outputId": "305eb1c9-8273-4a57-eb2f-981566e11c16"
   },
   "outputs": [
    {
     "name": "stdout",
     "output_type": "stream",
     "text": [
      "2\n"
     ]
    }
   ],
   "source": [
    "# what is the value of x[1]\n",
    "print(x[1])"
   ]
  },
  {
   "cell_type": "code",
   "execution_count": 11,
   "metadata": {
    "colab": {
     "base_uri": "https://localhost:8080/"
    },
    "id": "6W7b37LpY0CW",
    "outputId": "d600de7d-7805-4406-d313-e3ed078779d4"
   },
   "outputs": [
    {
     "name": "stdout",
     "output_type": "stream",
     "text": [
      "1\n"
     ]
    }
   ],
   "source": [
    "# what is the value of x[0]\n",
    "print(x[0]\n",
    ")"
   ]
  },
  {
   "cell_type": "code",
   "execution_count": 12,
   "metadata": {
    "colab": {
     "base_uri": "https://localhost:8080/"
    },
    "id": "pyx_pUJXY-W0",
    "outputId": "22fdf712-a34d-4436-e2f8-ae0bd287b949"
   },
   "outputs": [
    {
     "name": "stdout",
     "output_type": "stream",
     "text": [
      "5\n"
     ]
    }
   ],
   "source": [
    "# what is the value of x[-1]\n",
    "print(x[-1])"
   ]
  },
  {
   "cell_type": "code",
   "execution_count": 2,
   "metadata": {
    "colab": {
     "base_uri": "https://localhost:8080/"
    },
    "id": "WDR9n5sAZEpj",
    "outputId": "b54b2aa3-b434-4f74-d314-eacae71110e7"
   },
   "outputs": [
    {
     "name": "stdout",
     "output_type": "stream",
     "text": [
      "Names\n",
      "phoneNumber\n",
      "['james', 'paul']\n",
      "[723648617, 712783167]\n",
      "Names ['james', 'paul']\n",
      "phoneNumber [723648617, 712783167]\n"
     ]
    }
   ],
   "source": [
    "# write a code to create a python dictionary (the dict type) and print out the details.\n",
    "Details = {\"Names\":[\"james\",\"paul\"],\n",
    "           \"phoneNumber\":[723648617, 712783167]}\n",
    "for key in Details.keys():\n",
    "  print(key)\n",
    "for value in Details.values():\n",
    "  print(value)\n",
    "for key, value in Details.items():\n",
    "  print(key, value)\n"
   ]
  },
  {
   "cell_type": "code",
   "execution_count": 3,
   "metadata": {
    "colab": {
     "base_uri": "https://localhost:8080/"
    },
    "id": "yAxp-uufaVex",
    "outputId": "1d6fd32c-8378-45c9-e515-a87d49d663a8"
   },
   "outputs": [
    {
     "name": "stdout",
     "output_type": "stream",
     "text": [
      "{'Names': ['james', 'paul', 'Regina'], 'phoneNumber': [723648617, 712783167, 7892456719]}\n"
     ]
    }
   ],
   "source": [
    "# Adding two entires on the dictionary\n",
    "Details[\"Names\"].append(\"Regina\")\n",
    "Details[\"phoneNumber\"].append(7892456719)\n",
    "print(Details)"
   ]
  },
  {
   "cell_type": "code",
   "execution_count": 4,
   "metadata": {
    "colab": {
     "base_uri": "https://localhost:8080/"
    },
    "id": "US5NX3HIoFpE",
    "outputId": "bcadb6ab-2a8f-48ff-d483-6597eeb81548"
   },
   "outputs": [
    {
     "name": "stdout",
     "output_type": "stream",
     "text": [
      "Names\n",
      "phoneNumber\n",
      "['james', 'paul', 'Regina']\n",
      "[723648617, 712783167, 7892456719]\n",
      "Names ['james', 'paul', 'Regina']\n",
      "phoneNumber [723648617, 712783167, 7892456719]\n"
     ]
    }
   ],
   "source": [
    "for key in Details.keys():\n",
    "  print(key)\n",
    "for value in Details.values():\n",
    "  print(value)\n",
    "for key, value in Details.items():\n",
    "  print(key, value)"
   ]
  },
  {
   "cell_type": "code",
   "execution_count": 6,
   "metadata": {
    "colab": {
     "base_uri": "https://localhost:8080/"
    },
    "id": "mt2cPJhFoWyR",
    "outputId": "80990951-934f-42e6-f494-e94f311b2288"
   },
   "outputs": [
    {
     "data": {
      "text/plain": [
       "{'Names': ['james', 'paul', 'Regina'],\n",
       " 'phoneNumber': [723648617, 712783167, 7892456719]}"
      ]
     },
     "execution_count": 6,
     "metadata": {},
     "output_type": "execute_result"
    }
   ],
   "source": [
    "Details"
   ]
  },
  {
   "cell_type": "code",
   "execution_count": 7,
   "metadata": {
    "colab": {
     "base_uri": "https://localhost:8080/"
    },
    "id": "pGxp6vJYOdVG",
    "outputId": "deceead2-4241-452c-aa57-59ce015fb22a"
   },
   "outputs": [
    {
     "name": "stdout",
     "output_type": "stream",
     "text": [
      "{'Names': ['Brian', 'John', 'Paul'], 'Counties': ['Kiambu', 'Kisumu', 'Mombasa']}\n"
     ]
    }
   ],
   "source": [
    "# Create a data file listing members of HCIA_AI class and their counties\n",
    "HCIA_Aldict = {\"Names\":[\"Brian\", \"John\", \"Paul\"],\n",
    "               \"Counties\":[\"Kiambu\", \"Kisumu\", \"Mombasa\"]}\n",
    "print(HCIA_Aldict)"
   ]
  },
  {
   "cell_type": "code",
   "execution_count": null,
   "metadata": {
    "id": "LLZj4VccQWbi"
   },
   "outputs": [],
   "source": []
  }
 ],
 "metadata": {
  "colab": {
   "authorship_tag": "ABX9TyMDeo2gBkm8REwAUoD0kDN5",
   "include_colab_link": true,
   "provenance": []
  },
  "kernelspec": {
   "display_name": "Python 3 (ipykernel)",
   "language": "python",
   "name": "python3"
  },
  "language_info": {
   "codemirror_mode": {
    "name": "ipython",
    "version": 3
   },
   "file_extension": ".py",
   "mimetype": "text/x-python",
   "name": "python",
   "nbconvert_exporter": "python",
   "pygments_lexer": "ipython3",
   "version": "3.12.6"
  }
 },
 "nbformat": 4,
 "nbformat_minor": 4
}
