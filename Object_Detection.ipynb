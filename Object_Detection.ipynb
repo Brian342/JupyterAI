{
  "nbformat": 4,
  "nbformat_minor": 0,
  "metadata": {
    "colab": {
      "provenance": [],
      "authorship_tag": "ABX9TyMse4HSGqVGW3vMd6+3+NFu",
      "include_colab_link": true
    },
    "kernelspec": {
      "name": "python3",
      "display_name": "Python 3"
    },
    "language_info": {
      "name": "python"
    }
  },
  "cells": [
    {
      "cell_type": "markdown",
      "metadata": {
        "id": "view-in-github",
        "colab_type": "text"
      },
      "source": [
        "<a href=\"https://colab.research.google.com/github/Brian342/JupyterAI/blob/main/Object_Detection.ipynb\" target=\"_parent\"><img src=\"https://colab.research.google.com/assets/colab-badge.svg\" alt=\"Open In Colab\"/></a>"
      ]
    },
    {
      "cell_type": "code",
      "source": [
        "!pip install opencv-python"
      ],
      "metadata": {
        "id": "jHmNMWKClXAU",
        "outputId": "d5de420d-9c27-4183-f591-edb4d9ce2299",
        "colab": {
          "base_uri": "https://localhost:8080/"
        }
      },
      "execution_count": null,
      "outputs": [
        {
          "output_type": "stream",
          "name": "stdout",
          "text": [
            "Requirement already satisfied: opencv-python in /usr/local/lib/python3.11/dist-packages (4.11.0.86)\n",
            "Requirement already satisfied: numpy>=1.21.2 in /usr/local/lib/python3.11/dist-packages (from opencv-python) (2.0.2)\n"
          ]
        }
      ]
    },
    {
      "cell_type": "code",
      "source": [
        "# import openCv\n",
        "import cv2\n",
        "\n",
        "# import uuid\n",
        "import uuid\n",
        "\n",
        "# import operating system\n",
        "import os\n",
        "\n",
        "# import time\n",
        "import time"
      ],
      "metadata": {
        "id": "z39yOKkZGHi_"
      },
      "execution_count": null,
      "outputs": []
    },
    {
      "cell_type": "code",
      "source": [
        "print('hey man too long')"
      ],
      "metadata": {
        "id": "7PJxGsUCGg_x",
        "outputId": "d667da32-cb55-4bf1-f628-488112f6c007",
        "colab": {
          "base_uri": "https://localhost:8080/"
        }
      },
      "execution_count": null,
      "outputs": [
        {
          "output_type": "stream",
          "name": "stdout",
          "text": [
            "hey man too long\n"
          ]
        }
      ]
    },
    {
      "cell_type": "code",
      "source": [
        "'this is a new code'"
      ],
      "metadata": {
        "id": "RLTqQnB-csv4",
        "outputId": "4229a9cd-cfb7-4d9c-c4a3-4d1d6b4c75a0",
        "colab": {
          "base_uri": "https://localhost:8080/",
          "height": 35
        }
      },
      "execution_count": 1,
      "outputs": [
        {
          "output_type": "execute_result",
          "data": {
            "text/plain": [
              "'this is a new code'"
            ],
            "application/vnd.google.colaboratory.intrinsic+json": {
              "type": "string"
            }
          },
          "metadata": {},
          "execution_count": 1
        }
      ]
    },
    {
      "cell_type": "code",
      "source": [],
      "metadata": {
        "id": "AiRutO0rgN-Q"
      },
      "execution_count": null,
      "outputs": []
    }
  ]
}