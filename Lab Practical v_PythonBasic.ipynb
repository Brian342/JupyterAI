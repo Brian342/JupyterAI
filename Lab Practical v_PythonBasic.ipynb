{
 "cells": [
  {
   "cell_type": "markdown",
   "id": "30d79733-b583-4f05-b729-f7cf0703f998",
   "metadata": {},
   "source": [
    "# JOMO KENYATTA UNIVERSITY OF AGRICULTURE AND TECHNOLOGY\n",
    "- BACHELOR OF SCIENCE IN INFORMATION TECHNOLOGY \n",
    "- BIT 2319 ARTIFICIAL INTELLIGENCE\n",
    "- LAB PRACTICAL V: PYTHON BASICS\n",
    "\n",
    "1.\tCheck the version of pandas and numpy installed using the following commands:\n",
    "import numpy; print (numpy.version.version) #numpy version\n",
    "import pandas as pd; print (pd.__version__)  #pandas version\n",
    "2.\tWrite a program to print 'Hello BBC/BIT Year 3 AI Team’. Repeat the output 10 times\n",
    "3.\tWrite a program to define two variables, calculate their sum and display the results\n",
    "4.\tWrite a program to define a tuple that contains only one element.\n",
    "b) Write a program to define a tuple and then use the 'for loop' to print all the elements.\n",
    "6.\tWrite code to create a Python dictionary (the dict type) and print out the details. Add two entries to the dictionary: Associate the key ‘name’ with the value ‘Reagan’, and associate the key ‘phone’ with ‘+254 722 222333’\n",
    "7.\tDefine the variable s as the string s=“Almost Done with AI\"\n",
    "a.\tWhat is the value of 3*x?   b)  What is the value of x[1]?\n",
    "b.\tWhat is the value of x[-1]?  d) What is the value of x[::2]?\n",
    "8.\tUse the following declarations to answer the questions below:\n",
    "import string\n",
    "text = “BIT/BBC AI Comrades \"\n",
    "a.\tprint (\"upper\", \"=>\", string.upper(text))\n",
    "b.\tprint (\"lower\", \"=>\", string.lower(text))\n",
    "c.\tprint (\"split\", \"=>\", string.split(text))\n",
    "d.\tprint (\"join\", \"=>\", string.join(string.split(text), \"+\"))\n",
    "e.\tprint (\"replace\", \"=>\", string.replace(text, \"Python\", \"Java\"))\n",
    "f.\tprint (\"find\", \"=>\", string.find(text, \"Python\"), string.find(text, \"Java\"))\n",
    "g.\tprint (\"count\", \"=>\", string.count(text, \"n\"))\n",
    "9.\tDefine the variable s as the string s = “Almost Done with AI\"\n",
    "10.\tUse a for/while loop to:\n",
    "a.\tPrint the numbers 0 to 100 \n",
    "b.\tPrint the numbers 0 to 100 that are divisible by 7\n",
    "c.\tPrint the numbers 1 to 100 that are divisible by 5 but not by 3\n",
    "d.\tPrint for each of the numbers x = 2; : : : 20, all numbers that divide x, excluding 1 and x. Hence, for 18, it should print 2 3 6 9.\n",
    "11.\t\n",
    "a.\tDefine a function to do Multiplication, such as Mul(8,6),and it output 42.\n",
    "b.\tComplete the function definition so it returns the square of the product of the parameters, so sqrProd(2, 5) returns (2*5)*(2*5) = 100.\n",
    "def sqrProd(x, y):\n",
    "12.\tImport numpy and then:\n",
    "a.\tUse numpy to define an array, the shape of it is (5,5) and all elements of it is 0.\n",
    "b.\tCreate a 3x3 matrix with values ranging from 0 to 8\n",
    "c.\tFind indices of non-zero elements from [1,2,0,0,4,0]\n",
    "d.\tCreate a 10x10 array with random values and find the minimum and maximum values\n",
    "e.\tCreate a random vector of size 30 and find the mean value \n",
    "13.\tWrite a Python program that prompts the user for two numbers, reads them in, and prints out the product, sum, difference and quotient using an appropriate format and labeled appropriately.\n",
    "14.\t\n",
    "a.\tComplete the code for the following function so it matches its documentation:\n",
    "def doubleList(numberList):\n",
    "For each of the numbers in the list numberList, print a line containing twice the original number. For example,\n",
    "doubleList ([3, 1, 5]) would print 6, 2, 10\n",
    "b.\tWrite a function that evaluates the polynomial 3x2 - x + 2.  Test with x = 3 and share your results\n",
    "c.\tWrite a function my_max(x,y) that returns the maximum of x and y. Do not use the max function, but use it instead in following two ways:\n",
    "i.\tUse both if and else.\n",
    "ii.\tUse if but not else (nor elif).\n",
    "d.\tWrite a program to read and calculate the area and circumference of a circle using two functions, area() and circum().\n",
    "15.\tObject Oriented Programming\n",
    "a. Create a Vehicle class with max_speed and mileage instance attributes. Create an instance of the Vehicle class and use the following data with appropriate methods to read and display the values (max_speed: 240 km/hr, mileage: 10,000 km)\n",
    "b.\tCreate child class Bus that will inherit all of the variables and methods of the Vehicle class, and has name attribute. Use the following data to test your class; Name: \"School Mercedes\", max_speed = 180, mileage = 1000. Test and display members of Bus class\n",
    "c.\tCreate a Bus class that inherits from the Vehicle class. Add an attribute the seating_capacity and give the argument of Bus.seating_capacity() a default value of 50.\n",
    "d.\tDefine a class attribute”color” with a default value white. i.e., Every Vehicle should be white. Test and display members of both the Vehicle and Bus classes.\n",
    "\n",
    "\n"
   ]
  },
  {
   "cell_type": "code",
   "execution_count": 1,
   "id": "eda96f22-ae0d-45bc-9dbe-86a8ca7b81b1",
   "metadata": {},
   "outputs": [
    {
     "name": "stdout",
     "output_type": "stream",
     "text": [
      "1.26.4\n",
      "2.2.2\n"
     ]
    }
   ],
   "source": [
    "# Question 1 checking the version of pandas and numpy\n",
    "import pandas as pd\n",
    "import numpy as np\n",
    "# numpy version\n",
    "print(np.version.version)\n",
    "# pandas version\n",
    "print(pd.__version__)"
   ]
  },
  {
   "cell_type": "code",
   "execution_count": 91,
   "id": "07672c70-a8fb-4e76-8101-32549cc6af85",
   "metadata": {},
   "outputs": [
    {
     "name": "stdout",
     "output_type": "stream",
     "text": [
      "Hello BBC/BIT Year 3 AI Team\n",
      "Hello BBC/BIT Year 3 AI Team\n",
      "Hello BBC/BIT Year 3 AI Team\n",
      "Hello BBC/BIT Year 3 AI Team\n",
      "Hello BBC/BIT Year 3 AI Team\n",
      "Hello BBC/BIT Year 3 AI Team\n",
      "Hello BBC/BIT Year 3 AI Team\n",
      "Hello BBC/BIT Year 3 AI Team\n",
      "Hello BBC/BIT Year 3 AI Team\n",
      "Hello BBC/BIT Year 3 AI Team\n"
     ]
    }
   ],
   "source": [
    "# question 2 Write a program to print 'Hello BBC/BIT Year 3 AI Team’. Repeat the output 10 times\n",
    "text = 'Hello BBC/BIT Year 3 AI Team'\n",
    "i = 1\n",
    "while i<=10:\n",
    "    print(text)\n",
    "    i += 1"
   ]
  },
  {
   "cell_type": "code",
   "execution_count": 4,
   "id": "0330b538-1364-4ae5-929f-63e5a1fb892a",
   "metadata": {},
   "outputs": [
    {
     "name": "stdin",
     "output_type": "stream",
     "text": [
      "Enter Value 1:  4\n",
      "Enter Value 2:  5\n"
     ]
    },
    {
     "name": "stdout",
     "output_type": "stream",
     "text": [
      "The sum is: 9\n"
     ]
    }
   ],
   "source": [
    "# Question 3.Write a program to define two variables, calculate their sum and display the results\n",
    "num1 = int(input('Enter Value 1: '))\n",
    "num2 = int(input('Enter Value 2: '))\n",
    "summation = num1 + num2\n",
    "print(f\"The sum is: {summation}\")"
   ]
  },
  {
   "cell_type": "code",
   "execution_count": 8,
   "id": "84bddab1-c979-4ea5-8bf0-b8172ac15df8",
   "metadata": {},
   "outputs": [
    {
     "name": "stdout",
     "output_type": "stream",
     "text": [
      "1\n",
      "2\n",
      "3\n",
      "4\n",
      "5\n",
      "6\n",
      "7\n",
      "8\n",
      "9\n"
     ]
    }
   ],
   "source": [
    "# Question 4. Write a program to define a tuple that contains only one element.\n",
    "number = (1,)\n",
    "type(number\n",
    "    \n",
    "# question 4. b) Write a program to define a tuple and then use the 'for loop' to print all the elements.\n",
    "numbers = (1,2,3,4,5,6,7,8,9)\n",
    "for values in numbers:\n",
    "    print(values)\n",
    "    "
   ]
  },
  {
   "cell_type": "code",
   "execution_count": 41,
   "id": "13fe16a1-e852-49e5-97dc-a89badb3e073",
   "metadata": {},
   "outputs": [],
   "source": [
    "# Question 5) Write code to create a Python dictionary (the dict type) and print out the details. \n",
    "# Add two entries to the dictionary: Associate the key ‘name’ with the value ‘Reagan’, \n",
    "# and associate the key ‘phone’ with ‘+254 722 222333’\n",
    "studentDetails = {\"Names\":[\"James\", \"Paul\", \"Peter\", \"Joe\"],\n",
    "                  \"Phone\":['+254714678290', '+254792017389', '+254751672917', '+254753001278']}\n",
    "# adding 2 entries\n",
    "studentDetails['Names'].append('Reagan')\n",
    "studentDetails['Phone'].append('+254 722 222333')\n",
    "# print all the values on the dictionary\n",
    "\n",
    "for key in studentDetails:\n",
    "    print(studentDetails[key])"
   ]
  },
  {
   "cell_type": "code",
   "execution_count": 19,
   "id": "1dfa6b97-d907-4193-a969-fa7d06f69a79",
   "metadata": {},
   "outputs": [
    {
     "name": "stdout",
     "output_type": "stream",
     "text": [
      "Almost Done With AIAlmost Done With AIAlmost Done With AI\n",
      "value of s[1]->l\n",
      "value of s[-1]-> I\n",
      "value of s[::2]-> Ams oeWt I\n"
     ]
    }
   ],
   "source": [
    "# Question 6) Define the variable s as the string s=“Almost Done with AI\" \n",
    "# a. What is the value of 3*x? \n",
    "# b) What is the value of x[1]? b. What is the value of x[-1]? d) What is the value of x[::2]?\n",
    "x = \"Almost Done With AI\"\n",
    "\n",
    "# print value of 3 * x\n",
    "print(3*x)\n",
    "\n",
    "# what is the value of x[1]\n",
    "print(f\"value of s[1]->{x[1]}\")\n",
    "\n",
    "# value of s[-1]\n",
    "print(f\"value of s[-1]-> {x[-1]}\")\n",
    "\n",
    "# value of s[::2]\n",
    "print(f\"value of s[::2]-> {x[::2]}\")"
   ]
  },
  {
   "cell_type": "code",
   "execution_count": 24,
   "id": "e257be04-686e-406f-a19c-caf888c5c0ad",
   "metadata": {},
   "outputs": [
    {
     "name": "stdout",
     "output_type": "stream",
     "text": [
      "Upper => BIT/BBC AI COMRADES\n",
      "Lower => bit/bbc ai comrades\n",
      "Split => ['BIT/BBC', 'AI', 'Comrades']\n",
      "Join => BIT/BBC+AI+Comrades\n",
      "Replace => Java ia a cool Language\n",
      "Find Python => 0\n",
      "Find Java =>-1\n",
      "Count => 2\n"
     ]
    }
   ],
   "source": [
    "# Question 7) Use the following declarations to answer the questions below: import string text = “BIT/BBC AI Comrades \" \n",
    "# a. print (\"upper\", \"=>\", string.upper(text)) \n",
    "# b. print (\"lower\", \"=>\", string.lower(text)) \n",
    "# c. print (\"split\", \"=>\", string.split(text)) \n",
    "# d. print (\"join\", \"=>\", string.join(string.split(text), \"+\")) \n",
    "# e. print (\"replace\", \"=>\", string.replace(text, \"Python\", \"Java\")) \n",
    "# f. print (\"find\", \"=>\", string.find(text, \"Python\"), string.find(text, \"Java\")) \n",
    "# g. print (\"count\", \"=>\", string.count(text, \"n\"))\n",
    "\n",
    "import string\n",
    "text = \"BIT/BBC AI Comrades\"\n",
    "\n",
    "# a) print (\"upper\", \"=>\", string.upper(text))\n",
    "print(f\"Upper => {text.upper()}\")\n",
    "\n",
    "# b. print (\"lower\", \"=>\", string.lower(text)) \n",
    "print (f\"Lower => {text.lower()}\")\n",
    "\n",
    "# c. print (\"split\", \"=>\", string.split(text))\n",
    "print(f\"Split => {text.split()}\")\n",
    "\n",
    "# d. print (\"join\", \"=>\", string.join(string.split(text), \"+\")) \n",
    "split = text.split()\n",
    "print(f\"Join\", \"=>\",  \"+\".join(split))\n",
    "\n",
    "# e. print (\"replace\", \"=>\", string.replace(text, \"Python\", \"Java\")) \n",
    "value = \"Python ia a cool Language\"\n",
    "print(f\"Replace => {value.replace(\"Python\", \"Java\")}\")\n",
    "\n",
    "\n",
    "# f. print (\"find\", \"=>\", string.find(text, \"Python\"), string.find(text, \"Java\")) \n",
    "print(f\"Find Python => {value.find(\"Python\")}\")\n",
    "print(f\"Find Java => {value.find(\"Java\")}\")\n",
    "\n",
    "# g. print (\"count\", \"=>\", string.count(text, \"n\"))\n",
    "print(\"Count\", \"=>\", value.count(\"n\"))"
   ]
  },
  {
   "cell_type": "code",
   "execution_count": 79,
   "id": "6e5b2c56-7bf8-40b2-8fa4-de1fde2aa3cf",
   "metadata": {},
   "outputs": [
    {
     "name": "stdout",
     "output_type": "stream",
     "text": [
      "Almost Done With AI\n"
     ]
    }
   ],
   "source": [
    "# question 8) Define the variable s as the string s = “Almost Done with AI\"\n",
    "s = \"Almost Done With AI\"\n",
    "print(s)"
   ]
  },
  {
   "cell_type": "code",
   "execution_count": 8,
   "id": "2e5b27fa-20f8-417f-a944-1854b27c3243",
   "metadata": {
    "scrolled": true
   },
   "outputs": [
    {
     "name": "stdout",
     "output_type": "stream",
     "text": [
      "0\n",
      "7\n",
      "14\n",
      "21\n",
      "28\n",
      "35\n",
      "42\n",
      "49\n",
      "56\n",
      "63\n",
      "70\n",
      "77\n",
      "84\n",
      "91\n",
      "98\n"
     ]
    }
   ],
   "source": [
    "# Question 9) Use a for/while loop to: a. Print the numbers 0 to 100 \n",
    "# b. Print the numbers 0 to 100 that are divisible by 7 \n",
    "# c. Print the numbers 1 to 100 that are divisible by 5 but not by 3 \n",
    "# d. Print for each of the numbers x = 2; : : : 20, all numbers that divide x, excluding 1 and x. Hence, for 18, it should print 2 3 6 9.\n",
    "\n",
    "# for loop print numbers 0 to 100\n",
    "# for i in range(0, 101):\n",
    "#     print(i)\n",
    "\n",
    "# # # while loop\n",
    "# i = 0\n",
    "# while i <= 100:\n",
    "#     print(i)\n",
    "#     i+=1\n",
    "\n",
    "# # # =======================================================================================================\n",
    "\n",
    "# # b. Print the numbers 0 to 100 that are divisible by 7 using for loop\n",
    "# for num in range(0,101):\n",
    "#     if num % 7 == 0:\n",
    "#         print(num)\n",
    "\n",
    "# # b. Print the numbers 0 to 100 that are divisible by 7 using while loop\n",
    "# num = 0\n",
    "# while num <= 100:\n",
    "#     if num % 7 == 0:\n",
    "#         print(num)\n",
    "#     num+=1 # increment num to prevent infinity loops\n",
    "    \n",
    "# # =======================================================================================================\n",
    "\n",
    "# # c. Print the numbers 1 to 100 that are divisible by 5 but not by 3 \n",
    "# for value in range(0, 101):\n",
    "#     if value % 5 == 0 and value % 3 != 0:\n",
    "#         print(value)\n",
    "\n",
    "# # # while loop\n",
    "# value = 0\n",
    "# while value <= 100:\n",
    "#     if value % 5 == 0 and value % 3 != 0:\n",
    "#         print(value)\n",
    "#     value += 1\n",
    "\n",
    "# # ======================================================================================================\n",
    "\n",
    "# d. Print for each of the numbers x = 2; : : : 20, all numbers that divide x, excluding 1 and x. Hence, for 18, it should print 2 3 6 9.\n",
    "            # 18 % 2 == 0 → Prints 2\n",
    "            # 18 % 3 == 0 → Prints 3\n",
    "            # 18 % 6 == 0 → Prints 6\n",
    "            # 18 % 9 == 0 → Prints 9\n",
    "# for num in range(2, 21):\n",
    "#     print(f\"Divisiors of {num} (excluding 1 and {num}):\", end=\" \")\n",
    "#     found = False # boolean variable\n",
    "#     for i in range(2, num):\n",
    "#         if num % i == 0:\n",
    "#             print(i, end=\" \")\n",
    "#             found=True\n",
    "#     if not found:\n",
    "#         print('None', end=\" \")\n",
    "#     print()\n",
    "\n",
    "# ======================================================================================================="
   ]
  },
  {
   "cell_type": "code",
   "execution_count": 5,
   "id": "727c5f44-b89d-48ac-a3bd-5549c02c4854",
   "metadata": {},
   "outputs": [
    {
     "data": {
      "text/plain": [
       "100"
      ]
     },
     "execution_count": 5,
     "metadata": {},
     "output_type": "execute_result"
    }
   ],
   "source": [
    "# Question 10) a. Define a function to do Multiplication, such as Mul(8,6),and it output 42. \n",
    "# b. Complete the function definition so it returns the square of the product of the parameters,\n",
    "# so sqrProd(2, 5) returns (25)(2*5) = 100. def sqrProd(x, y)\n",
    "\n",
    "# a) Function to do Multiplication\n",
    "def mul(a,b):\n",
    "    \"\"\"Function that takes some parameters and \n",
    "    returns a multiplication of those parameters\"\"\"\n",
    "    return a*b\n",
    "mul(8,6)\n",
    "\n",
    "# function definition\n",
    "def sqrProd(x, y):\n",
    "    \"\"\"A Function that takes some parameters, \n",
    "    declares a varible output that performs multiplication on two numbers\n",
    "    then returns a square of the output variable\"\"\"\n",
    "    output = x*y\n",
    "    return output**2\n",
    "sqrProd(2, 5)"
   ]
  },
  {
   "cell_type": "code",
   "execution_count": 39,
   "id": "028c9873-ead1-4922-addc-070575edaa7d",
   "metadata": {},
   "outputs": [
    {
     "name": "stdout",
     "output_type": "stream",
     "text": [
      "Random Array-> [[4 2 1 3 3 3 0 3 8 9]\n",
      " [0 5 3 3 7 0 1 2 6 6]\n",
      " [8 0 1 8 1 4 4 6 6 9]\n",
      " [6 3 9 1 5 8 0 8 5 5]\n",
      " [7 1 6 0 3 0 8 6 2 4]\n",
      " [3 1 4 3 2 0 3 8 2 3]\n",
      " [0 7 7 9 8 7 2 2 6 1]\n",
      " [0 2 6 7 1 8 5 5 6 3]\n",
      " [2 6 3 3 7 3 4 5 1 3]\n",
      " [6 1 5 8 6 1 3 0 1 3]]\n",
      "Maximum value-> 9\n",
      "Minimum value-> 0\n",
      "Mean Vector-> 0.4267097978542572\n"
     ]
    }
   ],
   "source": [
    "# Question 11) Import numpy and then: \n",
    "# a. Use numpy to define an array, the shape of it is (5,5) and all elements of it is 0. \n",
    "# b. Create a 3x3 matrix with values ranging from 0 to 8 \n",
    "# c. Find indices of non-zero elements from [1,2,0,0,4,0] \n",
    "# d. Create a 10x10 array with random values and find the minimum and maximum values \n",
    "# e. Create a random vector of size 30 and find the mean value\n",
    "\n",
    "# use numpy to define an array, the shape of it is (5,5) and all elements of it is 0\n",
    "import numpy as np\n",
    "zero = np.zeros((5,5))\n",
    "zero\n",
    "\n",
    "# create a 3*3 matrix with values ranging from 0 to 8\n",
    "matrix = np.arange(0,9).reshape(3,3)\n",
    "matrix\n",
    "\n",
    "# Find indices of non-zero elements from [1, 2, 0, 0, 4, 0]\n",
    "elements = np.array([1, 2, 0, 0, 4, 0])\n",
    "elements[np.nonzero(elements)]\n",
    "\n",
    "# Create a 10 * 10 array with random values and find the minimum and maximum values\n",
    "random = np.random.randint(10, size=(10,10))\n",
    "minimum = np.min(random)\n",
    "maximum = np.max(random)\n",
    "print(\"Random Array->\", random)\n",
    "print(\"Maximum value->\", maximum)\n",
    "print(\"Minimum value->\", minimum)\n",
    "\n",
    "# random Vector of size 30 and find the mean value\n",
    "vector = np.random.rand(30)\n",
    "meanValue = np.mean(vector)\n",
    "print(f\"Mean Vector-> {meanValue}\")"
   ]
  },
  {
   "cell_type": "code",
   "execution_count": null,
   "id": "cbc7996f-bfad-484c-b9f2-594de1d69aa1",
   "metadata": {},
   "outputs": [],
   "source": [
    "# Question 12 Write a Python program that prompts the user for two numbers, \n",
    "# reads them in, and prints out the product, sum, difference and quotient using an appropriate format and labeled appropriately.\n",
    "import math\n",
    "num1 = int(input(\"Enter Number 1: \"))\n",
    "num2 = int(input(\"Enter Number 2: \"))\n",
    "product = num1 * num2\n",
    "Total = num1 + num2\n",
    "Difference = num1 - num2\n",
    "Quotient = num1//num2\n",
    "print(f\"The Product of {num1}*{num2} is -> {product}\")\n",
    "print(f\"The Total of {num1}+{num2} is -> {Total}\")\n",
    "print(f\"The Difference of {num1}-{num2} is -> {Difference}\")\n",
    "print(f\"The Quotient of {num1}//{num2} is -> {Quotient}\")"
   ]
  },
  {
   "cell_type": "code",
   "execution_count": null,
   "id": "b1f906af-9bdd-4460-b642-38017a6b0c5a",
   "metadata": {},
   "outputs": [],
   "source": []
  },
  {
   "cell_type": "markdown",
   "id": "6ee89c42-5fdc-40f9-89e9-c774adf19c4f",
   "metadata": {},
   "source": [
    "<h4>Question 13</h4>\n",
    "\n",
    "1) Complete the code for the following function so it matches its documentation: def doubleList(numberList): For each of the numbers in the list numberList, print a line containing twice the original number. For example, doubleList ([3, 1, 5]) would print 6, 2, 10 \n",
    "2) Write a function that evaluates the polynomial 3x2 - x + 2. Test with x = 3 and share your results\n",
    "3) Write a function my_max(x,y) that returns the maximum of x and y. Do not use the max function, but use it instead in following two ways: i. Use both if and else. ii. Use if but not else (nor elif).\n",
    "4) Write a program to read and calculate the area and circumference of a circle using two functions, area() and circum()."
   ]
  },
  {
   "cell_type": "code",
   "execution_count": null,
   "id": "182dda0e-189b-4e2a-8dce-d5013802ec19",
   "metadata": {},
   "outputs": [],
   "source": []
  },
  {
   "cell_type": "code",
   "execution_count": 7,
   "id": "eb6ef859-d89a-46f6-97c7-4ad27f45e77d",
   "metadata": {},
   "outputs": [
    {
     "data": {
      "text/plain": [
       "\u001b[0;31mSignature:\u001b[0m \u001b[0mmul\u001b[0m\u001b[0;34m(\u001b[0m\u001b[0ma\u001b[0m\u001b[0;34m,\u001b[0m \u001b[0mb\u001b[0m\u001b[0;34m)\u001b[0m\u001b[0;34m\u001b[0m\u001b[0;34m\u001b[0m\u001b[0m\n",
       "\u001b[0;31mSource:\u001b[0m   \n",
       "\u001b[0;32mdef\u001b[0m \u001b[0mmul\u001b[0m\u001b[0;34m(\u001b[0m\u001b[0ma\u001b[0m\u001b[0;34m,\u001b[0m\u001b[0mb\u001b[0m\u001b[0;34m)\u001b[0m\u001b[0;34m:\u001b[0m\u001b[0;34m\u001b[0m\n",
       "\u001b[0;34m\u001b[0m    \u001b[0;34m\"\"\"Function that takes some parameters and \u001b[0m\n",
       "\u001b[0;34m    returns a multiplication of those parameters\"\"\"\u001b[0m\u001b[0;34m\u001b[0m\n",
       "\u001b[0;34m\u001b[0m    \u001b[0;32mreturn\u001b[0m \u001b[0ma\u001b[0m\u001b[0;34m*\u001b[0m\u001b[0mb\u001b[0m\u001b[0;34m\u001b[0m\u001b[0;34m\u001b[0m\u001b[0m\n",
       "\u001b[0;31mFile:\u001b[0m      /var/folders/6w/_1xx55992tqfg37yz_8bt5v80000gn/T/ipykernel_43359/3232276529.py\n",
       "\u001b[0;31mType:\u001b[0m      function"
      ]
     },
     "metadata": {},
     "output_type": "display_data"
    }
   ],
   "source": []
  },
  {
   "cell_type": "code",
   "execution_count": 25,
   "id": "c3d1f208-0a6b-4687-bdaa-dd88c69c4736",
   "metadata": {},
   "outputs": [
    {
     "data": {
      "text/plain": [
       "125"
      ]
     },
     "execution_count": 25,
     "metadata": {},
     "output_type": "execute_result"
    }
   ],
   "source": []
  },
  {
   "cell_type": "code",
   "execution_count": null,
   "id": "4c70ce54-16a7-49fd-84c2-6b067201feac",
   "metadata": {},
   "outputs": [],
   "source": []
  }
 ],
 "metadata": {
  "kernelspec": {
   "display_name": "Python 3 (ipykernel)",
   "language": "python",
   "name": "python3"
  },
  "language_info": {
   "codemirror_mode": {
    "name": "ipython",
    "version": 3
   },
   "file_extension": ".py",
   "mimetype": "text/x-python",
   "name": "python",
   "nbconvert_exporter": "python",
   "pygments_lexer": "ipython3",
   "version": "3.12.6"
  }
 },
 "nbformat": 4,
 "nbformat_minor": 5
}
